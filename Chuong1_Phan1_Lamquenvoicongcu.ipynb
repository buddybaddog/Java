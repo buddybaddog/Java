{
 "cells": [
  {
   "cell_type": "code",
   "execution_count": 3,
   "id": "12960c7c",
   "metadata": {},
   "outputs": [
    {
     "ename": "SyntaxError",
     "evalue": "leading zeros in decimal integer literals are not permitted; use an 0o prefix for octal integers (3538412662.py, line 19)",
     "output_type": "error",
     "traceback": [
      "\u001b[1;36m  Cell \u001b[1;32mIn[3], line 19\u001b[1;36m\u001b[0m\n\u001b[1;33m    ***Coypyright: Đặng Văn Nam - 0805-FIT.HUMG***\u001b[0m\n\u001b[1;37m                                      ^\u001b[0m\n\u001b[1;31mSyntaxError\u001b[0m\u001b[1;31m:\u001b[0m leading zeros in decimal integer literals are not permitted; use an 0o prefix for octal integers\n"
     ]
    }
   ],
   "source": [
    "<center> \n",
    "    <h2>Chương 1: TỔNG QUAN VỀ HỌC MÁY</h2>\n",
    "</center>\n",
    "\n",
    "---\n",
    "\n",
    "**NỘI DUNG BÀI HỌC:**\n",
    "1. Trí tuệ nhân tạo(AI)\n",
    "2. Học máy(ML)\n",
    "3. Lịch sử và ứng dụng của học máy\n",
    "4. Các thuật toán học máy\n",
    "     * Học có giám sát\n",
    "     * Học không giám sát\n",
    "     * Học bán giám sát\n",
    "     * Học củng cố\n",
    "5. Các kiến thức và kỹ năng làm việc về Học máy\n",
    "6. Chuẩn bị công cụ và môi trường học tập\n",
    "\n",
    "***Coypyright: Đặng Văn Nam - 0805-FIT.HUMG***"
   ]
  },
  {
   "cell_type": "code",
   "execution_count": null,
   "id": "8431cf2f",
   "metadata": {},
   "outputs": [],
   "source": []
  },
  {
   "cell_type": "code",
   "execution_count": 4,
   "id": "2219ddf8",
   "metadata": {},
   "outputs": [
    {
     "ename": "SyntaxError",
     "evalue": "leading zeros in decimal integer literals are not permitted; use an 0o prefix for octal integers (1200156875.py, line 19)",
     "output_type": "error",
     "traceback": [
      "\u001b[1;36m  Cell \u001b[1;32mIn[4], line 19\u001b[1;36m\u001b[0m\n\u001b[1;33m    ***Copyright: PTVH - 0805-FIT.HUMG***\u001b[0m\n\u001b[1;37m                         ^\u001b[0m\n\u001b[1;31mSyntaxError\u001b[0m\u001b[1;31m:\u001b[0m leading zeros in decimal integer literals are not permitted; use an 0o prefix for octal integers\n"
     ]
    }
   ],
   "source": [
    "<center>\n",
    "    <h2>CHƯƠNG 1: TỔNG QUAN VỀ HỌC MÁY</h2>\n",
    "</center>\n",
    "\n",
    "<img src='pic/ML.jpg' width='700px'>\n",
    "\n",
    "**Nội dung bài học:**\n",
    "1. Trí tuệ nhân tạp (AI)\n",
    "2. Học máy (ML)\n",
    "3. Lịch sử và ứng dụng của học máy\n",
    "4. Các thuật toán học máy\n",
    "    * Học có giám sát\n",
    "    * Học không giám sát\n",
    "    * Học bán giám sát\n",
    "    * Học củng cố\n",
    "5. Học các kiến thức và kỹ năng làm về học máy\n",
    "6. Chuẩn bị công cụ và môi trường học tập\n",
    "---\n",
    "***Copyright: PTVH - 0805-FIT.HUMG***"
   ]
  },
  {
   "cell_type": "markdown",
   "id": "e657fb71",
   "metadata": {},
   "source": [
    "<h1>6. CHUẨN BỊ CÔNG CỤ</h1>\n",
    "---\n",
    "<h4> 6.1 Kiểm tra bộ biên dịch python</h4>"
   ]
  },
  {
   "cell_type": "code",
   "execution_count": 5,
   "id": "1da65d5c",
   "metadata": {
    "scrolled": true
   },
   "outputs": [
    {
     "name": "stdout",
     "output_type": "stream",
     "text": [
      "CHÀO MỪNG BẠN ĐẾN VỚI MÔN HỌC MÁY - 7080510\n"
     ]
    }
   ],
   "source": [
    "print('CHÀO MỪNG BẠN ĐẾN VỚI MÔN HỌC MÁY - 7080510')"
   ]
  },
  {
   "cell_type": "markdown",
   "id": "5bdd5691",
   "metadata": {},
   "source": [
    "#Check biên dịch Python:\n",
    "for i in range(1,11):\n",
    "    print(i, '. Mọi thứ lớn lao đều bắt nguồn từ những điều bé nhỏ !')"
   ]
  },
  {
   "cell_type": "markdown",
   "id": "0f272ab9",
   "metadata": {},
   "source": [
    "**Bài tập kiểm ta lập trình python:**\n",
    "    \n",
    "---\n",
    "\n",
    "Yêu cầu:\n",
    "    nhập vào 2 số nguyên a, b(<100):\n",
    "    liệt kê tất cả các số nguyên dương trong khoảng từ 1 đến 100,\n",
    "    thỏa mã điều kiện chia hết cho a, không chia hết cho b\n",
    "    \n",
    "    ví dụ a = 5, b = 10\n",
    "    Kết quả các số thỏa mãn: 5, 15, 25 ,35 ,45, 55, 65, 75, 85, 95.\n",
    "    \n",
    "    Thử chạy với a = 2, b = 4."
   ]
  },
  {
   "cell_type": "code",
   "execution_count": 6,
   "id": "5aebe4a9",
   "metadata": {},
   "outputs": [
    {
     "ename": "IndentationError",
     "evalue": "expected an indented block after 'for' statement on line 3 (2586295435.py, line 4)",
     "output_type": "error",
     "traceback": [
      "\u001b[1;36m  Cell \u001b[1;32mIn[6], line 4\u001b[1;36m\u001b[0m\n\u001b[1;33m    if i % a == 0 and i % b != 0:\u001b[0m\n\u001b[1;37m    ^\u001b[0m\n\u001b[1;31mIndentationError\u001b[0m\u001b[1;31m:\u001b[0m expected an indented block after 'for' statement on line 3\n"
     ]
    }
   ],
   "source": [
    "a = input(\"nhập vào số nguyên a\")\n",
    "b = input(\"nhập vào số nguyên b\")\n",
    "for i in range(1, 101):\n",
    "if i % a == 0 and i % b != 0:\n",
    "    print({a})"
   ]
  },
  {
   "cell_type": "markdown",
   "id": "028c4ed8",
   "metadata": {},
   "source": [
    "<h2> 6.2 Kiểm tra các thư viện Python quan trọng<h2>"
   ]
  },
  {
   "cell_type": "code",
   "execution_count": 2,
   "id": "933e080a",
   "metadata": {},
   "outputs": [
    {
     "name": "stdout",
     "output_type": "stream",
     "text": [
      "Version Numpy: 1.26.3\n"
     ]
    }
   ],
   "source": [
    "#Kiểm tra thư viện Numpy\n",
    "import numpy as np\n",
    "print('Version Numpy:', np.__version__)"
   ]
  },
  {
   "cell_type": "code",
   "execution_count": 5,
   "id": "37cda42f",
   "metadata": {},
   "outputs": [
    {
     "name": "stdout",
     "output_type": "stream",
     "text": [
      "Version Pandas: 2.1.4\n"
     ]
    }
   ],
   "source": [
    "#Kiểm tra thư viện Pandas\n",
    "import pandas as pd\n",
    "print('Version Pandas:',pd.__version__)"
   ]
  },
  {
   "cell_type": "code",
   "execution_count": 27,
   "id": "94610cb1-6dd2-4e0a-88ad-bca59e4689d0",
   "metadata": {},
   "outputs": [
    {
     "name": "stdout",
     "output_type": "stream",
     "text": [
      "phiên bản cac the loai 3.8.2\n"
     ]
    }
   ],
   "source": [
    "import matplotlib as mpl\n",
    "print('phiên bản cac the loai',mpl.__version__)"
   ]
  },
  {
   "cell_type": "code",
   "execution_count": 4,
   "id": "6ce07676-c0e4-4370-bd90-1055d6906aa9",
   "metadata": {},
   "outputs": [
    {
     "name": "stdout",
     "output_type": "stream",
     "text": [
      "Version Pandas: 2.1.4\n"
     ]
    }
   ],
   "source": [
    "import pandas as pd\n",
    "print('Version Pandas:',pd.__version__)\n"
   ]
  },
  {
   "cell_type": "code",
   "execution_count": 1,
   "id": "76f47881-980c-4ac6-8e8a-5a2ac3b62de7",
   "metadata": {},
   "outputs": [
    {
     "name": "stdout",
     "output_type": "stream",
     "text": [
      "Version Scikit learn: 1.3.0\n"
     ]
    }
   ],
   "source": [
    "import sklearn as sk\n",
    "print('Version Scikit learn:',sk.__version__)\n"
   ]
  },
  {
   "cell_type": "code",
   "execution_count": 1,
   "id": "283202c0-78dc-4d93-b637-131b6fb4bbc3",
   "metadata": {},
   "outputs": [
    {
     "name": "stdout",
     "output_type": "stream",
     "text": [
      "1. phiem ban numpy: 1.24.3\n"
     ]
    }
   ],
   "source": [
    "import numpy as np\n",
    "print('1. phiem ban numpy:',np.__version__)"
   ]
  },
  {
   "cell_type": "code",
   "execution_count": 4,
   "id": "1ada6bef-277a-4909-a19f-d4829ab1208d",
   "metadata": {},
   "outputs": [
    {
     "name": "stdout",
     "output_type": "stream",
     "text": [
      "1. phiem ban pandas: 2.0.3\n"
     ]
    }
   ],
   "source": [
    "import pandas as pd\n",
    "print('1. phiem ban pandas:',pd.__version__)"
   ]
  },
  {
   "cell_type": "code",
   "execution_count": 5,
   "id": "2e2cc9d6",
   "metadata": {},
   "outputs": [
    {
     "name": "stdout",
     "output_type": "stream",
     "text": [
      "1. phiem ban matplotlib: 3.7.2\n"
     ]
    }
   ],
   "source": [
    "import matplotlib as mpl\n",
    "print('1. phiem ban matplotlib:',mpl.__version__)"
   ]
  },
  {
   "cell_type": "code",
   "execution_count": 6,
   "id": "1fbf5cf5",
   "metadata": {},
   "outputs": [
    {
     "name": "stdout",
     "output_type": "stream",
     "text": [
      "1. phiem ban sklearn: 1.3.0\n"
     ]
    }
   ],
   "source": [
    "import sklearn as sk\n",
    "print('1. phiem ban sklearn:',sk.__version__)"
   ]
  },
  {
   "cell_type": "code",
   "execution_count": null,
   "id": "cdac7db7",
   "metadata": {},
   "outputs": [],
   "source": []
  }
 ],
 "metadata": {
  "kernelspec": {
   "display_name": "Python 3 (ipykernel)",
   "language": "python",
   "name": "python3"
  },
  "language_info": {
   "codemirror_mode": {
    "name": "ipython",
    "version": 3
   },
   "file_extension": ".py",
   "mimetype": "text/x-python",
   "name": "python",
   "nbconvert_exporter": "python",
   "pygments_lexer": "ipython3",
   "version": "3.11.7"
  }
 },
 "nbformat": 4,
 "nbformat_minor": 5
}
